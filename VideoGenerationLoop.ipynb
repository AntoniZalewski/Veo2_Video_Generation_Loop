{
  "nbformat": 4,
  "nbformat_minor": 0,
  "metadata": {
    "colab": {
      "provenance": [],
      "mount_file_id": "1FIZ1uqvou2KZtHbZyMoG8C5oSpFqLyxQ",
      "authorship_tag": "ABX9TyMiAbP7OD/gUh90f4m25erZ",
      "include_colab_link": true
    },
    "kernelspec": {
      "name": "python3",
      "display_name": "Python 3"
    },
    "language_info": {
      "name": "python"
    }
  },
  "cells": [
    {
      "cell_type": "markdown",
      "metadata": {
        "id": "view-in-github",
        "colab_type": "text"
      },
      "source": [
        "<a href=\"https://colab.research.google.com/github/AntoniZalewski/Veo2_Video_Generation_Loop/blob/main/VideoGenerationLoop.ipynb\" target=\"_parent\"><img src=\"https://colab.research.google.com/assets/colab-badge.svg\" alt=\"Open In Colab\"/></a>"
      ]
    },
    {
      "cell_type": "code",
      "execution_count": null,
      "metadata": {
        "colab": {
          "base_uri": "https://localhost:8080/"
        },
        "cellView": "form",
        "id": "MYBqe78cCnpn",
        "outputId": "c1ac52c5-6772-4b73-f9b3-c6d3c64311bd"
      },
      "outputs": [
        {
          "output_type": "stream",
          "name": "stdout",
          "text": [
            " Krok 1: Instalowanie niezbędnych bibliotek...\n",
            "✅ Biblioteki zainstalowane.\n"
          ]
        }
      ],
      "source": [
        "# @title Komórka 1: Instalacja i Przygotowanie Środowiska\n",
        "print(\" Krok 1: Instalowanie niezbędnych bibliotek...\")\n",
        "# ZMIANA: Usunięto 'mlcroissant'\n",
        "!pip install google-generativeai pillow requests -q\n",
        "print(\"✅ Biblioteki zainstalowane.\")"
      ]
    },
    {
      "cell_type": "code",
      "source": [
        "# @title Komórka 2: Konfiguracja i Klucze API (Twoje Centrum Dowodzenia)\n",
        "import os\n",
        "import requests\n",
        "from PIL import Image\n",
        "from io import BytesIO\n",
        "from google.colab import drive\n",
        "from google.colab import userdata\n",
        "import google.generativeai as genai\n",
        "\n",
        "print(\" Krok 2: Konfiguracja projektu...\")\n",
        "\n",
        "# --- Klucz API ---\n",
        "try:\n",
        "    GOOGLE_API_KEY = userdata.get('GOOGLE_API_KEY')\n",
        "    genai.configure(api_key=GOOGLE_API_KEY)\n",
        "    print(\"✅ Klucz GOOGLE_API_KEY wczytany i skonfigurowany.\")\n",
        "except Exception as e:\n",
        "    print(f\"❌ BŁĄD: Nie udało się wczytać klucza API. Upewnij się, że dodałeś go w sekretach (🔑) pod nazwą 'GOOGLE_API_KEY'.\")\n",
        "\n",
        "# --- STRATEGIA: Nowy, potężny i precyzyjny System Prompt ---\n",
        "# ZMIANA: Dodano regułę nr 4, aby wymusić zwięzłą odpowiedź.\n",
        "SYSTEM_PROMPT = \"\"\"\n",
        "Jesteś ekspertem od kultury internetowej i wiralowych memów. Twoim zadaniem jest stworzenie krótkiego (1-2 zdania) scenariusza na wideo na podstawie zdjęcia kota.\n",
        "Scenariusz musi spełniać 4 warunki:\n",
        "1.  **VIBE KOTA:** Perfekcyjnie oddaj nastrój, emocje i pozę kota ze zdjęcia.\n",
        "2.  **MEME MASHUP:** Wpleć w scenariusz subtelne lub bezpośrednie nawiązanie do innego, znanego formatu mema. Przykłady do inspiracji: 'Distracted Boyfriend', 'Woman Yelling at a Cat', 'This is Fine', 'Drake Hotline Bling', 'Hide the Pain Harold', 'Is this a pigeon?'. Bądź kreatywny.\n",
        "3.  **FORMAT REELS/TIKTOK:** Scenariusz musi być wizualny, zwięzły i idealny do nałożenia jako chwytliwy tekst na krótki filmik.\n",
        "4.  **BEZPOŚREDNIA ODPOWIEDŹ:** Twoja odpowiedź musi być TYLKO I WYŁĄCZNIE scenariuszem. Nie dodawaj żadnych wstępów, nagłówków, ani zdań typu 'Oto propozycja:'. Zacznij odpowiedź bezpośrednio od opisu scenariusza (np. od słów \"Tekst na ekranie: ...\").\n",
        "\"\"\"\n",
        "print(\"✅ Zaktualizowany System Prompt został zdefiniowany.\")\n",
        "\n",
        "\n",
        "# --- Źródło Danych ---\n",
        "drive.mount('/content/drive')\n",
        "IMAGE_FOLDER_PATH = \"/content/drive/MyDrive/Cat_archive/cats_from_memes\"\n",
        "print(f\"✅ Cel danych: Folder na Dysku Google: {IMAGE_FOLDER_PATH}\")\n",
        "\n",
        "\n",
        "# --- Miejsce Zapisu Filmów ---\n",
        "VIDEO_SAVE_PATH = '/content/drive/MyDrive/Wygenerowane_Kocie_Filmy'\n",
        "os.makedirs(VIDEO_SAVE_PATH, exist_ok=True)\n",
        "print(f\"✅ Filmy będą zapisywane w: {VIDEO_SAVE_PATH}\")"
      ],
      "metadata": {
        "colab": {
          "base_uri": "https://localhost:8080/"
        },
        "cellView": "form",
        "id": "G_aZcrz3DjI6",
        "outputId": "4c15ed26-2952-4a07-b189-2fe1d1d0c2b0"
      },
      "execution_count": null,
      "outputs": [
        {
          "output_type": "stream",
          "name": "stdout",
          "text": [
            " Krok 2: Konfiguracja projektu...\n",
            "✅ Klucz GOOGLE_API_KEY wczytany i skonfigurowany.\n",
            "✅ Zaktualizowany System Prompt został zdefiniowany.\n",
            "Drive already mounted at /content/drive; to attempt to forcibly remount, call drive.mount(\"/content/drive\", force_remount=True).\n",
            "✅ Cel danych: Folder na Dysku Google: /content/drive/MyDrive/Cat_archive/cats_from_memes\n",
            "✅ Filmy będą zapisywane w: /content/drive/MyDrive/Wygenerowane_Kocie_Filmy\n"
          ]
        }
      ]
    },
    {
      "cell_type": "code",
      "source": [
        "# @title Komórka 3: Wczytywanie Danych z Dysku Google (Nasza Kopalnia Kotów)\n",
        "print(f\" Krok 3: Wczytywanie obrazów z folderu: {IMAGE_FOLDER_PATH}...\")\n",
        "\n",
        "image_paths = []\n",
        "try:\n",
        "    # Wylistuj wszystkie pliki w folderze\n",
        "    wszystkie_pliki = os.listdir(IMAGE_FOLDER_PATH)\n",
        "\n",
        "    # Wybierz tylko te, które są obrazami\n",
        "    pliki_z_obrazami = [\n",
        "        plik for plik in wszystkie_pliki\n",
        "        if plik.lower().endswith(('.png', '.jpg', '.jpeg', '.webp'))\n",
        "    ]\n",
        "\n",
        "    if not pliki_z_obrazami:\n",
        "        print(f\"❌ UWAGA: Nie znalazłem żadnych plików obrazów w folderze '{IMAGE_FOLDER_PATH}'.\")\n",
        "        print(\"Upewnij się, że ścieżka jest poprawna i że pliki zostały już wgrane.\")\n",
        "    else:\n",
        "        # Tworzymy pełne ścieżki do każdego pliku\n",
        "        image_paths = [os.path.join(IMAGE_FOLDER_PATH, plik) for plik in pliki_z_obrazami]\n",
        "        print(f\"✅ Sukces! Znaleziono {len(image_paths)} obrazów w Twoim folderze.\")\n",
        "\n",
        "except FileNotFoundError:\n",
        "    print(f\"❌ BŁĄD: Folder nie został znaleziony. Sprawdź, czy ścieżka '{IMAGE_FOLDER_PATH}' jest na pewno poprawna.\")"
      ],
      "metadata": {
        "colab": {
          "base_uri": "https://localhost:8080/"
        },
        "cellView": "form",
        "id": "edU4LIF3VF9y",
        "outputId": "1b3ba7cf-2f9c-40cf-af55-ea288e983530"
      },
      "execution_count": null,
      "outputs": [
        {
          "output_type": "stream",
          "name": "stdout",
          "text": [
            " Krok 3: Wczytywanie obrazów z folderu: /content/drive/MyDrive/Cat_archive/cats_from_memes...\n",
            "✅ Sukces! Znaleziono 2283 obrazów w Twoim folderze.\n"
          ]
        }
      ]
    },
    {
      "cell_type": "code",
      "source": [
        "# @title Komórka 4: Definicje Funkcji (WERSJA OSTATECZNA i ODPORNA)\n",
        "import random\n",
        "import time\n",
        "\n",
        "print(\" Krok 4: Definiowanie funkcji produkcyjnych (WERSJA OSTATECZNA i ODPORNA)...\")\n",
        "\n",
        "# Ta funkcja jest poprawna i pozostaje bez zmian\n",
        "def get_random_image_path(paths):\n",
        "    \"\"\"Wybiera losową ścieżkę do obrazu z listy.\"\"\"\n",
        "    return random.choice(paths) if paths else None\n",
        "\n",
        "# Ta funkcja jest poprawna i pozostaje bez zmian\n",
        "def generate_scenario_in_two_steps(image_path):\n",
        "    \"\"\"Generuje scenariusz w dwóch krokach: Analiza + Kreatywność.\"\"\"\n",
        "    print(f\"  -> Rozpoczynam dwuetapowe generowanie dla: {os.path.basename(image_path)}\")\n",
        "    try:\n",
        "        print(\"    -> Etap 1: Analiza obrazu...\")\n",
        "        img = Image.open(image_path)\n",
        "        analysis_model = genai.GenerativeModel('gemini-1.5-flash-latest')\n",
        "        analysis_prompt = \"\"\"\n",
        "        Twoim zadaniem jest być precyzyjnym analitykiem obrazu. Opisz to zdjęcie w 3-5 zwięzłych punktach. Skup się na:\n",
        "        1. Pozie i mowie ciała kota.\n",
        "        2. Emocjach lub 'vibie', który kot wyraża (np. złość, nuda, ciekawość, osąd).\n",
        "        3. Charakterystycznych elementach otoczenia.\n",
        "        Odpowiedz TYLKO w formie listy punktowanej. Nie dodawaj żadnych wstępów.\n",
        "        \"\"\"\n",
        "        analysis_response = analysis_model.generate_content([analysis_prompt, img])\n",
        "        image_analysis = analysis_response.text\n",
        "        print(f\"    -> Wynik analizy:\\n{image_analysis.strip()}\")\n",
        "        print(\"    -> Etap 2: Tworzenie scenariusza na podstawie analizy...\")\n",
        "        creative_model = genai.GenerativeModel('gemini-1.5-flash-latest')\n",
        "        creative_user_prompt = f\"Na podstawie tej obiektywnej analizy zdjęcia kota:\\n---\\n{image_analysis}\\n---\\nStwórz scenariusz, trzymając się swoich głównych wytycznych.\"\n",
        "        creative_response = creative_model.generate_content([SYSTEM_PROMPT, creative_user_prompt])\n",
        "        final_scenario = creative_response.text\n",
        "        print(f\"  -> Otrzymano finalny scenariusz: '{final_scenario.strip()}'\")\n",
        "        return final_scenario.strip()\n",
        "    except Exception as e:\n",
        "        print(f\"  -> ❌ BŁĄD podczas dwuetapowego generowania: {e}\")\n",
        "        return None\n",
        "\n",
        "# ==============================================================================\n",
        "# === ZMIANA: Dodano sprawdzanie uprawnień modelu przed wywołaniem ===\n",
        "# ==============================================================================\n",
        "def generate_video_with_veo(image_path, scenario, save_path, video_number):\n",
        "    \"\"\"Generuje wideo używając poprawnej metody dla modelu Veo w Gemini API.\"\"\"\n",
        "    print(f\"  -> Inicjuję generowanie wideo dla pliku: {os.path.basename(image_path)}\")\n",
        "\n",
        "    try:\n",
        "        # 1. Znajdź model Veo i sprawdź jego uprawnienia\n",
        "        print(\"    -> Wyszukuję dostępny model Veo...\")\n",
        "        veo_model_object = None\n",
        "        for m in genai.list_models():\n",
        "            if 'veo' in m.name:\n",
        "                # Sprawdzamy, czy ten model na pewno obsługuje metodę, której chcemy użyć\n",
        "                if 'generateContent' in m.supported_generation_methods:\n",
        "                    veo_model_object = m\n",
        "                    break\n",
        "\n",
        "        if not veo_model_object:\n",
        "            print(\"  -> ❌ KRYTYCZNY BŁĄD: Znaleziono model Veo, ale Twoje konto nie ma uprawnień do używania go z metodą 'generateContent'.\")\n",
        "            print(\"  -> Upewnij się, że jesteś na liście dopuszczonych testerów (allowlist) dla Veo API.\")\n",
        "            return None\n",
        "\n",
        "        print(f\"    -> Znaleziono model i potwierdzono uprawnienia dla: {veo_model_object.name}\")\n",
        "\n",
        "        # 2. Użyj nazwy modelu, aby stworzyć działający obiekt\n",
        "        veo_runnable_model = genai.GenerativeModel(veo_model_object.name)\n",
        "\n",
        "        # 3. Wczytaj dane obrazu\n",
        "        print(\"    -> Przygotowuję obraz do wysłania...\")\n",
        "        img = Image.open(image_path)\n",
        "\n",
        "        # 4. Wywołaj funkcję 'generate_content'\n",
        "        print(\"    -> Wysyłam zlecenie do API i czekam na wygenerowanie wideo...\")\n",
        "        response = veo_runnable_model.generate_content(\n",
        "            [scenario, img],\n",
        "            request_options={'timeout': 1200}\n",
        "        )\n",
        "\n",
        "        video_data = response.parts[0].blob.data\n",
        "\n",
        "        final_video_path = os.path.join(save_path, f\"film_kota_{video_number}.mp4\")\n",
        "        print(f\"    -> Zapisuję plik wideo w: {final_video_path}\")\n",
        "        with open(final_video_path, 'wb') as f:\n",
        "            f.write(video_data)\n",
        "\n",
        "        print(f\"  -> ✅ Wideo zostało pomyślnie wygenerowane i zapisane.\")\n",
        "        return final_video_path\n",
        "\n",
        "    except Exception as e:\n",
        "        print(f\"  -> ❌ KRYTYCZNY BŁĄD podczas procesu generowania wideo: {e}\")\n",
        "        return None\n",
        "\n",
        "print(\"✅ Wszystkie funkcje fabryki (WERSJA OSTATECZNA i ODPORNA) zdefiniowane.\")"
      ],
      "metadata": {
        "colab": {
          "base_uri": "https://localhost:8080/"
        },
        "cellView": "form",
        "id": "KbuvVYjiVy4P",
        "outputId": "c9222fea-14ca-4e07-9b05-731fad2975ae"
      },
      "execution_count": null,
      "outputs": [
        {
          "output_type": "stream",
          "name": "stdout",
          "text": [
            " Krok 4: Definiowanie funkcji produkcyjnych (WERSJA OSTATECZNA i ODPORNA)...\n",
            "✅ Wszystkie funkcje fabryki (WERSJA OSTATECZNA i ODPORNA) zdefiniowane.\n"
          ]
        }
      ]
    },
    {
      "cell_type": "code",
      "source": [
        "# @title Komórka 5: Główna Pętla Produkcyjna (Wersja z Analizą)\n",
        "import time\n",
        "\n",
        "print(\" Krok 5: Uruchamianie Głównej Pętli Produkcyjnej...\")\n",
        "print(\"Naciśnij przycisk 'Stop' w Colab, aby bezpiecznie zakończyć działanie.\")\n",
        "\n",
        "video_counter = 0\n",
        "try:\n",
        "    if not image_paths:\n",
        "        print(\"\\n❌ Brak wczytanych obrazów. Zatrzymaj i uruchom ponownie komórki 2 i 3.\")\n",
        "    else:\n",
        "        while True:\n",
        "            video_counter += 1\n",
        "            print(f\"\\n{'='*25} Rozpoczynam cykl produkcyjny #{video_counter} {'='*25}\")\n",
        "\n",
        "            # 1. Wybierz losowego kota\n",
        "            print(\"1. Losowanie kota...\")\n",
        "            kot_path = get_random_image_path(image_paths)\n",
        "\n",
        "            # 2. Wygeneruj dla niego scenariusz (NOWA FUNKCJA)\n",
        "            print(\"2. Generowanie scenariusza w dwóch krokach...\")\n",
        "            scenariusz = generate_scenario_in_two_steps(kot_path) # ZMIANA\n",
        "            if not scenariusz:\n",
        "                print(\"Nie udało się wygenerować scenariusza. Przechodzę do następnej iteracji za 15 sekund.\")\n",
        "                time.sleep(15)\n",
        "                continue\n",
        "\n",
        "            # 3. Wygeneruj wideo\n",
        "            print(\"3. Generowanie wideo z Veo...\")\n",
        "            sciezka_filmu = generate_video_with_veo(kot_path, scenariusz, VIDEO_SAVE_PATH, video_counter)\n",
        "\n",
        "            print(f\"\\n✅ Zakończono cykl #{video_counter}. Film (symulacja) dostępny w {VIDEO_SAVE_PATH}\")\n",
        "\n",
        "            # 4. Chwila przerwy\n",
        "            pauza = random.randint(45, 90)\n",
        "            print(f\"Następny cykl za {pauza} sekund...\")\n",
        "            time.sleep(pauza)\n",
        "\n",
        "except KeyboardInterrupt:\n",
        "    print(\"\\n\\n Pętla zatrzymana przez użytkownika. Dobra robota!\")"
      ],
      "metadata": {
        "colab": {
          "base_uri": "https://localhost:8080/",
          "height": 506
        },
        "id": "jZRil_OLV5Gi",
        "outputId": "616f690a-ddcf-40ae-d22c-7c27866f44ca",
        "cellView": "form"
      },
      "execution_count": null,
      "outputs": [
        {
          "output_type": "stream",
          "name": "stdout",
          "text": [
            " Krok 5: Uruchamianie Głównej Pętli Produkcyjnej...\n",
            "Naciśnij przycisk 'Stop' w Colab, aby bezpiecznie zakończyć działanie.\n",
            "\n",
            "========================= Rozpoczynam cykl produkcyjny #1 =========================\n",
            "1. Losowanie kota...\n",
            "2. Generowanie scenariusza w dwóch krokach...\n",
            "  -> Rozpoczynam dwuetapowe generowanie dla: cat (180).jpg\n",
            "    -> Etap 1: Analiza obrazu...\n",
            "    -> Wynik analizy:\n",
            "* Kot jest sfotografowany z bliska, w zbliżeniu, co sprawia, że jego twarz wypełnia prawie całe zdjęcie. Jego pozycja sugeruje bezpośredni kontakt wzrokowy z obserwatorem.\n",
            "* Kot wydaje się być czujny i nieco podejrzliwy, a może nawet lekko zirytowany, sugerując to jego wyraz twarzy.\n",
            "* Na zdjęciu widoczne są elementy typowego salonu: drewniana podłoga, meble, telewizor i fragmenty tekstyliów.\n",
            "* W tle znajduje się również telewizor z włączonym ekranem, co sugeruje, że kot może być obserwował obraz z ekranu.\n",
            "* Kot jest bez sierści, co jest typowe dla rasy Sphynx.\n",
            "    -> Etap 2: Tworzenie scenariusza na podstawie analizy...\n",
            "  -> Otrzymano finalny scenariusz: 'Tekst na ekranie: \"Kot obserwujący telewizję.  *Intensywne skupienie*\" (użycie czcionki imitującej tekst z meme'a \"This is fine\").  Następnie szybki montaż: kot mruży oczy, a na ekranie telewizora pojawia się na sekundę obraz  z mema \"Woman Yelling at a Cat\", po czym kot wraca do swojego \"obserwującego\" wyrazu twarzy.'\n",
            "3. Generowanie wideo z Veo...\n",
            "  -> Inicjuję generowanie wideo dla pliku: cat (180).jpg\n",
            "    -> Wyszukuję dostępny model Veo...\n",
            "  -> ❌ KRYTYCZNY BŁĄD: Znaleziono model Veo, ale Twoje konto nie ma uprawnień do używania go z metodą 'generateContent'.\n",
            "  -> Upewnij się, że jesteś na liście dopuszczonych testerów (allowlist) dla Veo API.\n",
            "\n",
            "✅ Zakończono cykl #1. Film (symulacja) dostępny w /content/drive/MyDrive/Wygenerowane_Kocie_Filmy\n",
            "Następny cykl za 58 sekund...\n",
            "\n",
            "\n",
            " Pętla zatrzymana przez użytkownika. Dobra robota!\n"
          ]
        }
      ]
    }
  ]
}